{
  "nbformat": 4,
  "nbformat_minor": 0,
  "metadata": {
    "colab": {
      "name": "OCR.ipynb",
      "provenance": [],
      "private_outputs": true
    },
    "kernelspec": {
      "name": "python3",
      "display_name": "Python 3"
    },
    "accelerator": "GPU"
  },
  "cells": [
    {
      "cell_type": "markdown",
      "metadata": {
        "id": "bsuVU-_I0yHE",
        "colab_type": "text"
      },
      "source": [
        "# Download Data"
      ]
    },
    {
      "cell_type": "code",
      "metadata": {
        "id": "likrAc2qWZdZ",
        "colab_type": "code",
        "colab": {}
      },
      "source": [
        "from google.colab import files\n",
        "files.upload() #upload kaggle.json"
      ],
      "execution_count": null,
      "outputs": []
    },
    {
      "cell_type": "code",
      "metadata": {
        "id": "wbcoa_FcZs0f",
        "colab_type": "code",
        "colab": {}
      },
      "source": [
        "!pip install -q kaggle\n",
        "!mkdir -p ~/.kaggle\n",
        "!cp kaggle.json ~/.kaggle/\n",
        "!ls ~/.kaggle\n",
        "!chmod 600 /root/.kaggle/kaggle.json"
      ],
      "execution_count": null,
      "outputs": []
    },
    {
      "cell_type": "code",
      "metadata": {
        "id": "HodbGVjCZygg",
        "colab_type": "code",
        "colab": {}
      },
      "source": [
        "!kaggle datasets download -d backalla/words-mnist"
      ],
      "execution_count": null,
      "outputs": []
    },
    {
      "cell_type": "code",
      "metadata": {
        "id": "maOnryIlZ2rQ",
        "colab_type": "code",
        "colab": {}
      },
      "source": [
        "!unzip words-mnist.zip"
      ],
      "execution_count": null,
      "outputs": []
    },
    {
      "cell_type": "code",
      "metadata": {
        "id": "B0_-lyZCZ4zn",
        "colab_type": "code",
        "colab": {}
      },
      "source": [
        "!ls dataset/v011_words_small"
      ],
      "execution_count": null,
      "outputs": []
    },
    {
      "cell_type": "code",
      "metadata": {
        "id": "PCC8ST8caYN7",
        "colab_type": "code",
        "colab": {}
      },
      "source": [
        "!cat v011_labels_small.json"
      ],
      "execution_count": null,
      "outputs": []
    },
    {
      "cell_type": "markdown",
      "metadata": {
        "id": "FYU-MVro1cRI",
        "colab_type": "text"
      },
      "source": [
        "# Imports"
      ]
    },
    {
      "cell_type": "code",
      "metadata": {
        "id": "zimsvaoGmtWL",
        "colab_type": "code",
        "colab": {}
      },
      "source": [
        "import tensorflow as tf\n",
        "import json\n",
        "import pandas as pd\n",
        "import numpy as np\n",
        "from tensorflow.keras.layers import Dense, Flatten, Conv2D, MaxPool2D\n",
        "from tensorflow.keras import Model\n",
        "import time\n",
        "from PIL import Image\n",
        "import matplotlib.pyplot as plt\n",
        "import os"
      ],
      "execution_count": null,
      "outputs": []
    },
    {
      "cell_type": "markdown",
      "metadata": {
        "colab_type": "text",
        "id": "NBp5qI6GTGKT"
      },
      "source": [
        "# Load Data"
      ]
    },
    {
      "cell_type": "code",
      "metadata": {
        "colab_type": "code",
        "id": "3sOZaN3iTGKT",
        "colab": {}
      },
      "source": [
        "with open(\"v011_labels_small.json\") as f:\n",
        "  data = json.load(f)"
      ],
      "execution_count": null,
      "outputs": []
    },
    {
      "cell_type": "code",
      "metadata": {
        "colab_type": "code",
        "id": "Mr49n-mDTGKU",
        "colab": {}
      },
      "source": [
        "list_data = []\n",
        "for i, j in data.items():\n",
        "  list_data.append([\"dataset/v011_words_small/\"+i, j])\n",
        "list_data = np.array(list_data)"
      ],
      "execution_count": null,
      "outputs": []
    },
    {
      "cell_type": "code",
      "metadata": {
        "colab_type": "code",
        "id": "LZmwBJ1rTGKV",
        "colab": {}
      },
      "source": [
        "text_data = list_data[:, 1]"
      ],
      "execution_count": null,
      "outputs": []
    },
    {
      "cell_type": "code",
      "metadata": {
        "colab_type": "code",
        "id": "MkHAp9ovTGKW",
        "colab": {}
      },
      "source": [
        "text_data"
      ],
      "execution_count": null,
      "outputs": []
    },
    {
      "cell_type": "code",
      "metadata": {
        "colab_type": "code",
        "id": "bZ3ci6qcTGKY",
        "colab": {}
      },
      "source": [
        "vocab = set()"
      ],
      "execution_count": null,
      "outputs": []
    },
    {
      "cell_type": "code",
      "metadata": {
        "colab_type": "code",
        "id": "i89jT-vYTGKd",
        "colab": {}
      },
      "source": [
        "vocab.update([\"<start>\"])\n",
        "vocab.update([\"<end>\"])"
      ],
      "execution_count": null,
      "outputs": []
    },
    {
      "cell_type": "code",
      "metadata": {
        "colab_type": "code",
        "id": "tCqz6Nb2TGKf",
        "colab": {}
      },
      "source": [
        "vocab.update(set(\"\".join(text_data)))"
      ],
      "execution_count": null,
      "outputs": []
    },
    {
      "cell_type": "code",
      "metadata": {
        "colab_type": "code",
        "id": "YWUIhYlHTGKg",
        "colab": {}
      },
      "source": [
        "vocab = sorted(vocab)"
      ],
      "execution_count": null,
      "outputs": []
    },
    {
      "cell_type": "code",
      "metadata": {
        "colab_type": "code",
        "id": "Nl-Hil7QTGKh",
        "colab": {}
      },
      "source": [
        "vocab"
      ],
      "execution_count": null,
      "outputs": []
    },
    {
      "cell_type": "code",
      "metadata": {
        "colab_type": "code",
        "id": "F5SQoF_MTGKj",
        "colab": {}
      },
      "source": [
        "char2idx = {u:i+1 for i, u in enumerate(vocab)}\n",
        "idx2char = {i+1: u  for i, u in enumerate(vocab)}\n",
        "\n",
        "text_as_int = [[char2idx[\"<start>\"]]+[char2idx[c] for c in text]+[char2idx[\"<end>\"]] for text in text_data]"
      ],
      "execution_count": null,
      "outputs": []
    },
    {
      "cell_type": "code",
      "metadata": {
        "colab_type": "code",
        "id": "sK82V7jwTGKk",
        "colab": {}
      },
      "source": [
        "char2idx"
      ],
      "execution_count": null,
      "outputs": []
    },
    {
      "cell_type": "code",
      "metadata": {
        "colab_type": "code",
        "id": "dmeEVC6MTGKl",
        "colab": {}
      },
      "source": [
        "idx2char"
      ],
      "execution_count": null,
      "outputs": []
    },
    {
      "cell_type": "code",
      "metadata": {
        "colab_type": "code",
        "id": "Ck0-1CzxTGKo",
        "colab": {}
      },
      "source": [
        "tensor = tf.keras.preprocessing.sequence.pad_sequences(text_as_int,\n",
        "                                                        padding='post')\n"
      ],
      "execution_count": null,
      "outputs": []
    },
    {
      "cell_type": "code",
      "metadata": {
        "colab_type": "code",
        "id": "rMbsodRTTGKu",
        "colab": {}
      },
      "source": [
        "tensor[0]"
      ],
      "execution_count": null,
      "outputs": []
    },
    {
      "cell_type": "code",
      "metadata": {
        "colab_type": "code",
        "id": "pLYvDSACTGKx",
        "colab": {}
      },
      "source": [
        "dataset = tf.data.Dataset.from_tensor_slices((list_data[:,0], tensor))"
      ],
      "execution_count": null,
      "outputs": []
    },
    {
      "cell_type": "code",
      "metadata": {
        "colab_type": "code",
        "id": "UfHmfmRRTGKz",
        "colab": {}
      },
      "source": [
        "IMAGE_HEIGHT = 32\n",
        "IMAGE_WIDTH  = 112\n",
        "IMAGE_SHAPE = (IMAGE_HEIGHT, IMAGE_WIDTH, 3)\n",
        "BATCH_SIZE = 48\n",
        "BUFFER_SIZE = 10000\n",
        "\n",
        "\n",
        "BATCH_SIZE_SMALL = 2\n",
        "BUFFER_SIZE_SMALL = 10\n",
        "\n",
        "embedding_dim = 256\n",
        "units = 512\n",
        "vocab_size = len(vocab) + 1\n",
        "num_steps = len(text_data) // BATCH_SIZE"
      ],
      "execution_count": null,
      "outputs": []
    },
    {
      "cell_type": "code",
      "metadata": {
        "colab_type": "code",
        "id": "mmfZQUybTGK1",
        "colab": {}
      },
      "source": [
        "def decode_img(img):\n",
        "  img = tf.image.decode_jpeg(img, channels=3)\n",
        "  img = tf.image.convert_image_dtype(img, tf.float32)\n",
        "\n",
        "  return tf.image.resize(img, [IMAGE_HEIGHT, IMAGE_WIDTH])\n",
        "\n",
        "def process_path(image_path, label):\n",
        "  img   = tf.io.read_file(image_path)\n",
        "  img   = decode_img(img)\n",
        "  return img, label"
      ],
      "execution_count": null,
      "outputs": []
    },
    {
      "cell_type": "code",
      "metadata": {
        "colab_type": "code",
        "id": "R9vSLNR-TGK2",
        "colab": {}
      },
      "source": [
        "AUTOTUNE = tf.data.experimental.AUTOTUNE\n",
        "\n",
        "labeled_ds = dataset.map(process_path, num_parallel_calls=AUTOTUNE).shuffle(BUFFER_SIZE).batch(BATCH_SIZE, drop_remainder=True)"
      ],
      "execution_count": null,
      "outputs": []
    },
    {
      "cell_type": "code",
      "metadata": {
        "colab_type": "code",
        "id": "UiMaMix7TGK6",
        "colab": {}
      },
      "source": [
        "for ex in labeled_ds.take(1):\n",
        "  print(ex[0].shape)\n",
        "  plt.imshow(ex[0][0])\n",
        "  print(ex[1][0])"
      ],
      "execution_count": null,
      "outputs": []
    },
    {
      "cell_type": "code",
      "metadata": {
        "colab_type": "code",
        "id": "61ao422cTGK8",
        "colab": {}
      },
      "source": [
        "# Helper Function to give words from the tensor\n",
        "def tensor_to_word(tensor):\n",
        "  words=\"\"\n",
        "  for ten in tensor:\n",
        "    if idx2char[ten] == \"<start>\":\n",
        "      pass\n",
        "    elif idx2char[ten] == \"<end>\":\n",
        "      break\n",
        "    else:\n",
        "      words += idx2char[ten]\n",
        "  return words\n",
        "\n",
        "print(tensor_to_word([30, 85, 73, 70, 29, 0, 0, 0, 0]))"
      ],
      "execution_count": null,
      "outputs": []
    },
    {
      "cell_type": "code",
      "metadata": {
        "colab_type": "code",
        "id": "yGdy7MKnTGK9",
        "colab": {}
      },
      "source": [
        "# Helper Function to give tensor from the word\n",
        "def word_to_tensor(string):\n",
        "  tensor = []\n",
        "  tensor.append(char2idx[\"<start>\"])\n",
        "  for st in string:\n",
        "    tensor.append(char2idx[st])\n",
        "  tensor.append(char2idx[\"<end>\"])\n",
        "  return tensor\n",
        "\n",
        "print(word_to_tensor(\"tensor\"))"
      ],
      "execution_count": null,
      "outputs": []
    },
    {
      "cell_type": "markdown",
      "metadata": {
        "id": "xiv7Z5l2K0F2",
        "colab_type": "text"
      },
      "source": [
        "# Model"
      ]
    },
    {
      "cell_type": "code",
      "metadata": {
        "id": "J6DXlvE5n2wy",
        "colab_type": "code",
        "colab": {}
      },
      "source": [
        "class CNNEncoder(tf.keras.Model):\n",
        "  def __init__(self, vocab_size, embedding_dim, enc_units, batch_sz):\n",
        "    super(CNNEncoder, self).__init__()\n",
        "\n",
        "    self.batch_sz = batch_sz\n",
        "    self.enc_units = enc_units\n",
        "\n",
        "    ## Add CNN Encoder\n",
        "    base_model = tf.keras.applications.VGG16(input_shape=IMAGE_SHAPE, include_top=False, weights='imagenet')\n",
        "\n",
        "    new_input = base_model.input\n",
        "    hidden_layer = base_model.layers[-6].output # We want middle input\n",
        "\n",
        "    self.image_features_extract_model = tf.keras.Model(new_input, hidden_layer)\n",
        "\n",
        "    # shape after fc == (batch_size, 64, embedding_dim)\n",
        "    self.fc = tf.keras.layers.Dense(embedding_dim)\n",
        "\n",
        "\n",
        "    # self.embedding = tf.keras.layers.Embedding(vocab_size, embedding_dim)\n",
        "    self.gru = tf.keras.layers.GRU(self.enc_units,\n",
        "                                   return_sequences=True, # Read this if got confused: https://stackoverflow.com/questions/54887411/what-is-the-difference-between-return-state-and-return-sequence-in-a-keras-gru-l\n",
        "                                   return_state=True,\n",
        "                                   recurrent_initializer='glorot_uniform')\n",
        "\n",
        "  def call(self, x, hidden):\n",
        "    # x = self.embedding(x)\n",
        "    x = self.image_features_extract_model(x)\n",
        "    x = self.fc(x)\n",
        "    x = tf.nn.relu(x)\n",
        "    # print(x.shape)\n",
        "    x = tf.reshape(x, (x.shape[0], -1, x.shape[3]))\n",
        "    # print(x.shape)\n",
        "    output, state = self.gru(x, initial_state = hidden)\n",
        "    return output, state\n",
        "\n",
        "  def hidden_state_initializer(self):\n",
        "    return tf.zeros((self.batch_sz, self.enc_units))"
      ],
      "execution_count": null,
      "outputs": []
    },
    {
      "cell_type": "code",
      "metadata": {
        "id": "y6mjn-s8pZ4t",
        "colab_type": "code",
        "colab": {}
      },
      "source": [
        "encoder = CNNEncoder(vocab_size, embedding_dim, units, BATCH_SIZE)\n",
        "# Initialialize hiddne shaep\n",
        "sample_hidden = encoder.hidden_state_initializer()\n",
        "for image,label in labeled_ds:\n",
        "  break\n",
        "# image.shape, label.shape\n",
        "# ex[0]\n",
        "\n",
        "sample_output, sample_hidden = encoder(ex[0], sample_hidden)\n",
        "print ('Encoder output shape: (batch size, sequence length, units) {}'.format(sample_output.shape))\n",
        "print ('Encoder Hidden state shape: (batch size, units) {}'.format(sample_hidden.shape))"
      ],
      "execution_count": null,
      "outputs": []
    },
    {
      "cell_type": "markdown",
      "metadata": {
        "id": "kidzhmHOY7T7",
        "colab_type": "text"
      },
      "source": [
        "## Add Attention Layer"
      ]
    },
    {
      "cell_type": "code",
      "metadata": {
        "id": "q3RbMXFVB0br",
        "colab_type": "code",
        "colab": {}
      },
      "source": [
        "class Attention(tf.keras.layers.Layer):\n",
        "  def __init__(self, units):\n",
        "    super(Attention, self).__init__()\n",
        "    self.W1 = tf.keras.layers.Dense(units)\n",
        "    self.W2 = tf.keras.layers.Dense(units)\n",
        "    self.V = tf.keras.layers.Dense(1)\n",
        "\n",
        "  def call(self, query, values):\n",
        "    \n",
        "    query = tf.expand_dims(query, 1) # Add an extra axis for each time step of output from the decoder.\n",
        "\n",
        "    W1_val = self.W1(query) # get the weight value from the hidden  \n",
        "    W2_val = self.W2(values)\n",
        "\n",
        "    # Get the attention weights for each example in batch\n",
        "    attention_weights = tf.nn.softmax(self.V(tf.nn.tanh(W1_val+W2_val)), axis=1)\n",
        "    # multiply that attention with values of output\n",
        "    context_vector = tf.reduce_sum(attention_weights * values, axis=1)\n",
        "\n",
        "    return context_vector"
      ],
      "execution_count": null,
      "outputs": []
    },
    {
      "cell_type": "code",
      "metadata": {
        "id": "VrKvwm3jswNI",
        "colab_type": "code",
        "colab": {}
      },
      "source": [
        "attention_layer = Attention(10)\n",
        "attention_result = attention_layer(sample_hidden, sample_output)\n",
        "\n",
        "print(\"Attention result shape: (batch size, units) {}\".format(attention_result.shape))\n",
        "# print(\"Attention weights shape: (batch_size, sequence_length, 1) {}\".format(attention_weights.shape))"
      ],
      "execution_count": null,
      "outputs": []
    },
    {
      "cell_type": "code",
      "metadata": {
        "id": "IR1XjfuSYsc8",
        "colab_type": "code",
        "colab": {}
      },
      "source": [
        "class Decoder(tf.keras.Model):\n",
        "  def __init__(self, vocab_size, embedding_dim, dec_units, batch_sz):\n",
        "    super(Decoder, self).__init__()\n",
        "    self.batch_sz = batch_sz\n",
        "    self.dec_units = dec_units\n",
        "    self.embedding = tf.keras.layers.Embedding(vocab_size, embedding_dim)\n",
        "    self.gru = tf.keras.layers.GRU(self.dec_units,\n",
        "                                   return_sequences=True,\n",
        "                                   return_state=True,\n",
        "                                   recurrent_initializer='glorot_uniform')\n",
        "    self.fc = tf.keras.layers.Dense(vocab_size)\n",
        "\n",
        "    self.attention = Attention(self.dec_units)\n",
        "\n",
        "  def call(self, x, hidden, enc_output):\n",
        "    context_vector = self.attention(hidden, enc_output)\n",
        "    x = self.embedding(x)\n",
        "    x = tf.concat([tf.expand_dims(context_vector, 1), x], axis=-1)\n",
        "\n",
        "    output, state = self.gru(x)\n",
        "    output = tf.reshape(output, (-1, output.shape[2]))\n",
        "    x = self.fc(output)\n",
        "\n",
        "    return x, state"
      ],
      "execution_count": null,
      "outputs": []
    },
    {
      "cell_type": "code",
      "metadata": {
        "id": "JR24OmTkkZLP",
        "colab_type": "code",
        "colab": {}
      },
      "source": [
        "decoder = Decoder(vocab_size, embedding_dim, units, BATCH_SIZE)\n",
        "\n",
        "sample_decoder_output, _ = decoder(tf.random.uniform((BATCH_SIZE, 1)),\n",
        "                                      sample_hidden, sample_output)\n",
        "\n",
        "print ('Decoder output shape: (batch_size, vocab size) {}'.format(sample_decoder_output.shape))"
      ],
      "execution_count": null,
      "outputs": []
    },
    {
      "cell_type": "markdown",
      "metadata": {
        "id": "5NExw78Yl6ch",
        "colab_type": "text"
      },
      "source": [
        "## Add Optimizer and Loss Function"
      ]
    },
    {
      "cell_type": "code",
      "metadata": {
        "id": "ylY4UToxkvSU",
        "colab_type": "code",
        "colab": {}
      },
      "source": [
        "optimizer = tf.keras.optimizers.Adam()\n",
        "loss_object = tf.keras.losses.SparseCategoricalCrossentropy(\n",
        "    from_logits=True, reduction='none')\n",
        "\n",
        "def loss_function(real, pred):\n",
        "  mask = tf.math.logical_not(tf.math.equal(real, 0))\n",
        "  loss_ = loss_object(real, pred)\n",
        "\n",
        "  mask = tf.cast(mask, dtype=loss_.dtype)\n",
        "  loss_ *= mask\n",
        "\n",
        "  return tf.reduce_mean(loss_)"
      ],
      "execution_count": null,
      "outputs": []
    },
    {
      "cell_type": "markdown",
      "metadata": {
        "id": "GMUemSOlmcTj",
        "colab_type": "text"
      },
      "source": [
        "## Add Checkpoint"
      ]
    },
    {
      "cell_type": "code",
      "metadata": {
        "id": "7Yd2AWQZmHgT",
        "colab_type": "code",
        "colab": {}
      },
      "source": [
        "checkpoint_dir = './training_checkpoints'\n",
        "checkpoint_prefix = os.path.join(checkpoint_dir, \"ckpt\")\n",
        "checkpoint = tf.train.Checkpoint(optimizer=optimizer,\n",
        "                                 encoder=encoder,\n",
        "                                 decoder=decoder)"
      ],
      "execution_count": null,
      "outputs": []
    },
    {
      "cell_type": "code",
      "metadata": {
        "id": "gxDsKHxamiLY",
        "colab_type": "code",
        "colab": {}
      },
      "source": [
        "@tf.function\n",
        "def train_step(inp, targ, enc_hidden):\n",
        "  loss = 0\n",
        "\n",
        "  with tf.GradientTape() as tape:\n",
        "    enc_output, enc_hidden = encoder(inp, enc_hidden)\n",
        "\n",
        "    dec_hidden = enc_hidden\n",
        "\n",
        "    dec_input = tf.expand_dims([char2idx['<start>']] * BATCH_SIZE, 1)\n",
        "\n",
        "    # Teacher forcing - feeding the target as the next input\n",
        "    for t in range(1, targ.shape[1]):\n",
        "      # passing enc_output to the decoder\n",
        "      predictions, dec_hidden = decoder(dec_input, dec_hidden, enc_output)\n",
        "\n",
        "      loss += loss_function(targ[:, t], predictions)\n",
        "\n",
        "      # using teacher forcing\n",
        "      dec_input = tf.expand_dims(targ[:, t], 1)\n",
        "\n",
        "  batch_loss = (loss / int(targ.shape[1]))\n",
        "\n",
        "  variables = encoder.trainable_variables + decoder.trainable_variables\n",
        "\n",
        "  gradients = tape.gradient(loss, variables)\n",
        "\n",
        "  optimizer.apply_gradients(zip(gradients, variables))\n",
        "\n",
        "  return batch_loss"
      ],
      "execution_count": null,
      "outputs": []
    },
    {
      "cell_type": "code",
      "metadata": {
        "id": "QXZsNb0UmoeC",
        "colab_type": "code",
        "colab": {}
      },
      "source": [
        "EPOCHS = 50\n",
        "\n",
        "for epoch in range(EPOCHS):\n",
        "  start = time.time()\n",
        "\n",
        "  enc_hidden = encoder.hidden_state_initializer()\n",
        "  total_loss = 0\n",
        "\n",
        "  for (batch, (inp, targ)) in enumerate(labeled_ds.take(num_steps)):\n",
        "    batch_loss = train_step(inp, targ, enc_hidden)\n",
        "    total_loss += batch_loss\n",
        "\n",
        "    if batch % 100 == 0:\n",
        "      print('Epoch {} Batch {} Loss {:.4f}'.format(epoch + 1,\n",
        "                                                   batch,\n",
        "                                                   batch_loss.numpy()))\n",
        "  # saving (checkpoint) the model every 2 epochs\n",
        "  if (epoch + 1) % 2 == 0:\n",
        "    checkpoint.save(file_prefix = checkpoint_prefix)\n",
        "\n",
        "  print('Epoch {} Loss {:.4f}'.format(epoch + 1,\n",
        "                                      total_loss / num_steps))\n",
        "  print('Time taken for 1 epoch {} sec\\n'.format(time.time() - start))"
      ],
      "execution_count": null,
      "outputs": []
    },
    {
      "cell_type": "code",
      "metadata": {
        "id": "YvOqnsxLms0w",
        "colab_type": "code",
        "colab": {}
      },
      "source": [
        "def evaluate(image):\n",
        "  # attention_plot = np.zeros((max_length_targ, max_length_inp))\n",
        "\n",
        "  # sentence = preprocess_sentence(sentence)\n",
        "\n",
        "  # inputs = [inp_lang.word_index[i] for i in sentence.split(' ')]\n",
        "  # inputs = tf.keras.preprocessing.sequence.pad_sequences([inputs],\n",
        "  #                                                        maxlen=max_length_inp,\n",
        "  #                                                        padding='post')\n",
        "  # inputs = tf.convert_to_tensor(inputs)\n",
        "\n",
        "  result = ''\n",
        "  image_expand_dim = tf.expand_dims(image,axis=0)\n",
        "  hidden = [tf.zeros((1, units))]\n",
        "  enc_out, enc_hidden = encoder(image_expand_dim, hidden)\n",
        "\n",
        "  dec_hidden = enc_hidden\n",
        "  dec_input = tf.expand_dims([char2idx['<start>']], 0)\n",
        "\n",
        "  for t in range(30):\n",
        "    predictions, dec_hidden, attention_weights = decoder(dec_input,\n",
        "                                                         dec_hidden,\n",
        "                                                         enc_out)\n",
        "\n",
        "    # storing the attention weights to plot later on\n",
        "    attention_weights = tf.reshape(attention_weights, (-1, ))\n",
        "    # attention_plot[t] = attention_weights.numpy()\n",
        "\n",
        "    predicted_id = tf.argmax(predictions[0]).numpy()\n",
        "\n",
        "    result += idx2char[predicted_id] + ' '\n",
        "\n",
        "    if idx2char[predicted_id] == '<end>':\n",
        "      return result\n",
        "\n",
        "    # the predicted ID is fed back into the model\n",
        "    dec_input = tf.expand_dims([predicted_id], 0)\n",
        "\n",
        "  return result"
      ],
      "execution_count": null,
      "outputs": []
    },
    {
      "cell_type": "code",
      "metadata": {
        "id": "t1vNHHkHv1xJ",
        "colab_type": "code",
        "colab": {}
      },
      "source": [
        ""
      ],
      "execution_count": null,
      "outputs": []
    }
  ]
}